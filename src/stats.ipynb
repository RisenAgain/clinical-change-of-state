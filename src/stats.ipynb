{
 "cells": [
  {
   "cell_type": "code",
   "execution_count": 12,
   "metadata": {},
   "outputs": [],
   "source": [
    "from BratAnnotationReader import BratAnnotationReader\n",
    "from collections import defaultdict\n",
    "import glob"
   ]
  },
  {
   "cell_type": "code",
   "execution_count": 24,
   "metadata": {},
   "outputs": [
    {
     "name": "stdout",
     "output_type": "stream",
     "text": [
      "==========================================\n",
      "entities\n",
      "Type\t\tCount\n",
      "Snippet\t\t1008\n",
      "Loc\t\t1903\n",
      "Attr\t\t2401\n",
      "Val\t\t1050\n",
      "Cos\t\t1062\n",
      "Ref\t\t174\n",
      "Diagnosis\t\t486\n",
      "Duplicate\t\t57\n",
      "Dhead\t\t511\n",
      "Conj\t\t490\n",
      "==========================================\n",
      "relations\n",
      "Type\t\tCount\n",
      "Location\t\t1755\n",
      "State\t\t1078\n",
      "Value\t\t1003\n",
      "Referenced-by\t\t157\n",
      "Diag\t\t519\n",
      "Combine\t\t1158\n",
      "Extend\t\t3\n",
      "==========================================\n",
      "notes\n",
      "Type\t\tCount\n"
     ]
    }
   ],
   "source": [
    "stats = {}\n",
    "\n",
    "for file in glob.glob('../brat-1.3_Crunchy_Frog/data/cos_data/*.ann'):\n",
    "    bratReader = BratAnnotationReader(file)\n",
    "    annotations = bratReader.getAnnotations()\n",
    "\n",
    "    for key in annotations:\n",
    "        if key not in stats:\n",
    "            stats[key] = defaultdict(int)\n",
    "        for id, annotation in annotations[key].items():\n",
    "            stats[key][annotation['type']] += 1\n",
    "\n",
    "for key in stats:\n",
    "    print(\"==========================================\")\n",
    "    print(key)\n",
    "    print('Type\\t\\tCount')\n",
    "    for type, count in stats[key].items():\n",
    "        print(f'{type}\\t\\t{count}')\n",
    "\n"
   ]
  }
 ],
 "metadata": {
  "kernelspec": {
   "display_name": "Python 3.8.10 64-bit",
   "language": "python",
   "name": "python3"
  },
  "language_info": {
   "codemirror_mode": {
    "name": "ipython",
    "version": 3
   },
   "file_extension": ".py",
   "mimetype": "text/x-python",
   "name": "python",
   "nbconvert_exporter": "python",
   "pygments_lexer": "ipython3",
   "version": "3.8.10"
  },
  "orig_nbformat": 4,
  "vscode": {
   "interpreter": {
    "hash": "31f2aee4e71d21fbe5cf8b01ff0e069b9275f58929596ceb00d14d90e3e16cd6"
   }
  }
 },
 "nbformat": 4,
 "nbformat_minor": 2
}
